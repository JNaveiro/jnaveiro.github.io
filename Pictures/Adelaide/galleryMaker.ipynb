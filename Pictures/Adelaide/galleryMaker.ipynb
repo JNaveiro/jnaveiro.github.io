{
 "cells": [
  {
   "cell_type": "code",
   "execution_count": null,
   "metadata": {},
   "outputs": [],
   "source": [
    "import os\n",
    "import re"
   ]
  },
  {
   "cell_type": "code",
   "execution_count": null,
   "metadata": {},
   "outputs": [],
   "source": [
    "os.getcwd()\n",
    "galleryName='Adelaide'"
   ]
  },
  {
   "cell_type": "code",
   "execution_count": null,
   "metadata": {},
   "outputs": [],
   "source": [
    "imageNames=os.listdir()\n",
    "re.findall('\\d+',imageNames[0])\n",
    "nums=[ re.findall('\\d+',item) for item in imageNames[0:-1] ]\n",
    "nums=[int(item[0]) for item in nums]\n",
    "imageNumbers=sorted(nums)"
   ]
  },
  {
   "cell_type": "code",
   "execution_count": null,
   "metadata": {},
   "outputs": [],
   "source": [
    "htmlFile=open(galleryName.lower()+'.html','w')"
   ]
  },
  {
   "cell_type": "code",
   "execution_count": null,
   "metadata": {},
   "outputs": [],
   "source": [
    "htmlFile.write(\"<!DOCTYPE html>\\n<html lang=\\\"en-US\\\">\\n<head>\\n<title>\" + galleryName + \" | Juan Manuel Lorenzo Naveiro</title>\\n<meta name=\\\"author\\\" content=\\\"Juan Manuel Lorenzo Naveiro\\\">\\n<meta name=\\\"description\\\" content=\\\"Juan Manuel Lorenzo Naveiro's website\\\">\\n<meta name=\\\"viewport\\\" content=\\\"width=device-width, initial-scale=1.0\\\">\\n<link rel=\\\"stylesheet\\\" href=\\\"gallery.css\\\">\\n<link rel=\\\"preconnect\\\" href=\\\"https://fonts.googleapis.com\\\">\\n<link rel=\\\"preconnect\\\" href=\\\"https://fonts.gstatic.com\\\" crossorigin>\\n<link href=\\\"https://fonts.googleapis.com/css2?family=Open+Sans:ital,wght@0,300..800;1,300..800&display=swap\\\" rel=\\\"stylesheet\\\">\\n<link rel=\\\"preconnect\\\" href=\\\"https://fonts.googleapis.com\\\">\\n<link rel=\\\"preconnect\\\" href=\\\"https://fonts.gstatic.com\\\" crossorigin>\\n<link href=\\\"https://fonts.googleapis.com/css2?family=Lato:ital,wght@0,100;0,300;0,400;0,700;0,900;1,100;1,300;1,400;1,700;1,900&display=swap\\\" rel=\\\"stylesheet\\\">\\n<link rel=\\\"preconnect\\\" href=\\\"https://fonts.googleapis.com\\\">\\n<link rel=\\\"preconnect\\\" href=\\\"https://fonts.gstatic.com\\\" crossorigin>\\n<link href=\\\"https://fonts.googleapis.com/css2?family=Libre+Baskerville:ital,wght@0,400;0,700;1,400&display=swap\\\" rel=\\\"stylesheet\\\">\\n<script src=\\\"https://polyfill.io/v3/polyfill.min.js?features=es6\\\"></script>\\n<script id=\\\"MathJax-script\\\" async src=\\\"https://cdn.jsdelivr.net/npm/mathjax@3/es5/tex-mml-chtml.js\\\"></script>\\n</head>\\n<body>\\n\")"
   ]
  },
  {
   "cell_type": "code",
   "execution_count": null,
   "metadata": {},
   "outputs": [],
   "source": [
    "htmlFile.write(\"<div class=\\\"wrapper\\\">\\n<h1>\"+galleryName+\"</h1>\\n<div class=\\\"image-gallery\\\">\\n\")"
   ]
  },
  {
   "cell_type": "code",
   "execution_count": null,
   "metadata": {},
   "outputs": [],
   "source": [
    "htmlFile.close()"
   ]
  },
  {
   "cell_type": "code",
   "execution_count": null,
   "metadata": {},
   "outputs": [],
   "source": [
    "htmlFile=open(galleryName+'.html','a')"
   ]
  },
  {
   "cell_type": "code",
   "execution_count": null,
   "metadata": {},
   "outputs": [],
   "source": [
    "for number in imageNumbers:\n",
    "    htmlFile.write(\"<a href=\\\"Pictures/\"+galleryName+\"/\"+galleryName+\" (\"+str(number)+\").jpg\\\">\\n<div class=\\\"image-container\\\">\\n<img src=\\\"Pictures/\"+galleryName+\"/\"+galleryName+\" (\"+str(number)+\").jpg\\\">\\n</div>\\n</a>\\n\")"
   ]
  },
  {
   "cell_type": "code",
   "execution_count": null,
   "metadata": {},
   "outputs": [],
   "source": [
    "htmlFile.write(\"</div>\\n</div>\\n</body>\\n</html>\")"
   ]
  },
  {
   "cell_type": "code",
   "execution_count": null,
   "metadata": {},
   "outputs": [],
   "source": [
    "htmlFile.close()"
   ]
  }
 ],
 "metadata": {
  "kernelspec": {
   "display_name": "Python 3",
   "language": "python",
   "name": "python3"
  },
  "language_info": {
   "codemirror_mode": {
    "name": "ipython",
    "version": 3
   },
   "file_extension": ".py",
   "mimetype": "text/x-python",
   "name": "python",
   "nbconvert_exporter": "python",
   "pygments_lexer": "ipython3",
   "version": "3.11.2"
  }
 },
 "nbformat": 4,
 "nbformat_minor": 2
}
